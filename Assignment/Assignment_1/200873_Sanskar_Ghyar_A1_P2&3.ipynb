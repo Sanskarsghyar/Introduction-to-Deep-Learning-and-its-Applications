{
  "nbformat": 4,
  "nbformat_minor": 0,
  "metadata": {
    "colab": {
      "name": "200873_Sanskar_Ghyar_A1_P2&3.ipynb",
      "provenance": [],
      "collapsed_sections": []
    },
    "kernelspec": {
      "name": "python3",
      "display_name": "Python 3"
    },
    "language_info": {
      "name": "python"
    }
  },
  "cells": [
    {
      "cell_type": "code",
      "execution_count": 1,
      "metadata": {
        "id": "CTspalWil6b8"
      },
      "outputs": [],
      "source": [
        "import numpy as np\n",
        "import pandas as pd\n",
        "import matplotlib.pyplot as plt"
      ]
    },
    {
      "cell_type": "code",
      "source": [
        "df = pd.read_csv('/content/drive/MyDrive/COLAB Files/House_prediction.csv')"
      ],
      "metadata": {
        "id": "L7lHl89mmhFv"
      },
      "execution_count": 2,
      "outputs": []
    },
    {
      "cell_type": "code",
      "source": [
        "df.head()"
      ],
      "metadata": {
        "colab": {
          "base_uri": "https://localhost:8080/",
          "height": 392
        },
        "id": "OTdQb_vDmlyD",
        "outputId": "bb0a814e-2baf-4c1d-a3ef-a0d7a2b13d7f"
      },
      "execution_count": 3,
      "outputs": [
        {
          "output_type": "execute_result",
          "data": {
            "text/plain": [
              "           city  area  rooms  bathroom  parking spaces floor     animal  \\\n",
              "0     São Paulo    70      2         1               1     7      acept   \n",
              "1     São Paulo   320      4         4               0    20      acept   \n",
              "2  Porto Alegre    80      1         1               1     6      acept   \n",
              "3  Porto Alegre    51      2         1               0     2      acept   \n",
              "4     São Paulo    25      1         1               0     1  not acept   \n",
              "\n",
              "       furniture  hoa (R$)  rent amount (R$)  property tax (R$)  \\\n",
              "0      furnished      2065              3300                211   \n",
              "1  not furnished      1200              4960               1750   \n",
              "2  not furnished      1000              2800                  0   \n",
              "3  not furnished       270              1112                 22   \n",
              "4  not furnished         0               800                 25   \n",
              "\n",
              "   fire insurance (R$)  total (R$)  \n",
              "0                   42        5618  \n",
              "1                   63        7973  \n",
              "2                   41        3841  \n",
              "3                   17        1421  \n",
              "4                   11         836  "
            ],
            "text/html": [
              "\n",
              "  <div id=\"df-7671c920-2de9-43da-9099-2f61f2bc3b3a\">\n",
              "    <div class=\"colab-df-container\">\n",
              "      <div>\n",
              "<style scoped>\n",
              "    .dataframe tbody tr th:only-of-type {\n",
              "        vertical-align: middle;\n",
              "    }\n",
              "\n",
              "    .dataframe tbody tr th {\n",
              "        vertical-align: top;\n",
              "    }\n",
              "\n",
              "    .dataframe thead th {\n",
              "        text-align: right;\n",
              "    }\n",
              "</style>\n",
              "<table border=\"1\" class=\"dataframe\">\n",
              "  <thead>\n",
              "    <tr style=\"text-align: right;\">\n",
              "      <th></th>\n",
              "      <th>city</th>\n",
              "      <th>area</th>\n",
              "      <th>rooms</th>\n",
              "      <th>bathroom</th>\n",
              "      <th>parking spaces</th>\n",
              "      <th>floor</th>\n",
              "      <th>animal</th>\n",
              "      <th>furniture</th>\n",
              "      <th>hoa (R$)</th>\n",
              "      <th>rent amount (R$)</th>\n",
              "      <th>property tax (R$)</th>\n",
              "      <th>fire insurance (R$)</th>\n",
              "      <th>total (R$)</th>\n",
              "    </tr>\n",
              "  </thead>\n",
              "  <tbody>\n",
              "    <tr>\n",
              "      <th>0</th>\n",
              "      <td>São Paulo</td>\n",
              "      <td>70</td>\n",
              "      <td>2</td>\n",
              "      <td>1</td>\n",
              "      <td>1</td>\n",
              "      <td>7</td>\n",
              "      <td>acept</td>\n",
              "      <td>furnished</td>\n",
              "      <td>2065</td>\n",
              "      <td>3300</td>\n",
              "      <td>211</td>\n",
              "      <td>42</td>\n",
              "      <td>5618</td>\n",
              "    </tr>\n",
              "    <tr>\n",
              "      <th>1</th>\n",
              "      <td>São Paulo</td>\n",
              "      <td>320</td>\n",
              "      <td>4</td>\n",
              "      <td>4</td>\n",
              "      <td>0</td>\n",
              "      <td>20</td>\n",
              "      <td>acept</td>\n",
              "      <td>not furnished</td>\n",
              "      <td>1200</td>\n",
              "      <td>4960</td>\n",
              "      <td>1750</td>\n",
              "      <td>63</td>\n",
              "      <td>7973</td>\n",
              "    </tr>\n",
              "    <tr>\n",
              "      <th>2</th>\n",
              "      <td>Porto Alegre</td>\n",
              "      <td>80</td>\n",
              "      <td>1</td>\n",
              "      <td>1</td>\n",
              "      <td>1</td>\n",
              "      <td>6</td>\n",
              "      <td>acept</td>\n",
              "      <td>not furnished</td>\n",
              "      <td>1000</td>\n",
              "      <td>2800</td>\n",
              "      <td>0</td>\n",
              "      <td>41</td>\n",
              "      <td>3841</td>\n",
              "    </tr>\n",
              "    <tr>\n",
              "      <th>3</th>\n",
              "      <td>Porto Alegre</td>\n",
              "      <td>51</td>\n",
              "      <td>2</td>\n",
              "      <td>1</td>\n",
              "      <td>0</td>\n",
              "      <td>2</td>\n",
              "      <td>acept</td>\n",
              "      <td>not furnished</td>\n",
              "      <td>270</td>\n",
              "      <td>1112</td>\n",
              "      <td>22</td>\n",
              "      <td>17</td>\n",
              "      <td>1421</td>\n",
              "    </tr>\n",
              "    <tr>\n",
              "      <th>4</th>\n",
              "      <td>São Paulo</td>\n",
              "      <td>25</td>\n",
              "      <td>1</td>\n",
              "      <td>1</td>\n",
              "      <td>0</td>\n",
              "      <td>1</td>\n",
              "      <td>not acept</td>\n",
              "      <td>not furnished</td>\n",
              "      <td>0</td>\n",
              "      <td>800</td>\n",
              "      <td>25</td>\n",
              "      <td>11</td>\n",
              "      <td>836</td>\n",
              "    </tr>\n",
              "  </tbody>\n",
              "</table>\n",
              "</div>\n",
              "      <button class=\"colab-df-convert\" onclick=\"convertToInteractive('df-7671c920-2de9-43da-9099-2f61f2bc3b3a')\"\n",
              "              title=\"Convert this dataframe to an interactive table.\"\n",
              "              style=\"display:none;\">\n",
              "        \n",
              "  <svg xmlns=\"http://www.w3.org/2000/svg\" height=\"24px\"viewBox=\"0 0 24 24\"\n",
              "       width=\"24px\">\n",
              "    <path d=\"M0 0h24v24H0V0z\" fill=\"none\"/>\n",
              "    <path d=\"M18.56 5.44l.94 2.06.94-2.06 2.06-.94-2.06-.94-.94-2.06-.94 2.06-2.06.94zm-11 1L8.5 8.5l.94-2.06 2.06-.94-2.06-.94L8.5 2.5l-.94 2.06-2.06.94zm10 10l.94 2.06.94-2.06 2.06-.94-2.06-.94-.94-2.06-.94 2.06-2.06.94z\"/><path d=\"M17.41 7.96l-1.37-1.37c-.4-.4-.92-.59-1.43-.59-.52 0-1.04.2-1.43.59L10.3 9.45l-7.72 7.72c-.78.78-.78 2.05 0 2.83L4 21.41c.39.39.9.59 1.41.59.51 0 1.02-.2 1.41-.59l7.78-7.78 2.81-2.81c.8-.78.8-2.07 0-2.86zM5.41 20L4 18.59l7.72-7.72 1.47 1.35L5.41 20z\"/>\n",
              "  </svg>\n",
              "      </button>\n",
              "      \n",
              "  <style>\n",
              "    .colab-df-container {\n",
              "      display:flex;\n",
              "      flex-wrap:wrap;\n",
              "      gap: 12px;\n",
              "    }\n",
              "\n",
              "    .colab-df-convert {\n",
              "      background-color: #E8F0FE;\n",
              "      border: none;\n",
              "      border-radius: 50%;\n",
              "      cursor: pointer;\n",
              "      display: none;\n",
              "      fill: #1967D2;\n",
              "      height: 32px;\n",
              "      padding: 0 0 0 0;\n",
              "      width: 32px;\n",
              "    }\n",
              "\n",
              "    .colab-df-convert:hover {\n",
              "      background-color: #E2EBFA;\n",
              "      box-shadow: 0px 1px 2px rgba(60, 64, 67, 0.3), 0px 1px 3px 1px rgba(60, 64, 67, 0.15);\n",
              "      fill: #174EA6;\n",
              "    }\n",
              "\n",
              "    [theme=dark] .colab-df-convert {\n",
              "      background-color: #3B4455;\n",
              "      fill: #D2E3FC;\n",
              "    }\n",
              "\n",
              "    [theme=dark] .colab-df-convert:hover {\n",
              "      background-color: #434B5C;\n",
              "      box-shadow: 0px 1px 3px 1px rgba(0, 0, 0, 0.15);\n",
              "      filter: drop-shadow(0px 1px 2px rgba(0, 0, 0, 0.3));\n",
              "      fill: #FFFFFF;\n",
              "    }\n",
              "  </style>\n",
              "\n",
              "      <script>\n",
              "        const buttonEl =\n",
              "          document.querySelector('#df-7671c920-2de9-43da-9099-2f61f2bc3b3a button.colab-df-convert');\n",
              "        buttonEl.style.display =\n",
              "          google.colab.kernel.accessAllowed ? 'block' : 'none';\n",
              "\n",
              "        async function convertToInteractive(key) {\n",
              "          const element = document.querySelector('#df-7671c920-2de9-43da-9099-2f61f2bc3b3a');\n",
              "          const dataTable =\n",
              "            await google.colab.kernel.invokeFunction('convertToInteractive',\n",
              "                                                     [key], {});\n",
              "          if (!dataTable) return;\n",
              "\n",
              "          const docLinkHtml = 'Like what you see? Visit the ' +\n",
              "            '<a target=\"_blank\" href=https://colab.research.google.com/notebooks/data_table.ipynb>data table notebook</a>'\n",
              "            + ' to learn more about interactive tables.';\n",
              "          element.innerHTML = '';\n",
              "          dataTable['output_type'] = 'display_data';\n",
              "          await google.colab.output.renderOutput(dataTable, element);\n",
              "          const docLink = document.createElement('div');\n",
              "          docLink.innerHTML = docLinkHtml;\n",
              "          element.appendChild(docLink);\n",
              "        }\n",
              "      </script>\n",
              "    </div>\n",
              "  </div>\n",
              "  "
            ]
          },
          "metadata": {},
          "execution_count": 3
        }
      ]
    },
    {
      "cell_type": "code",
      "source": [
        "df.info()"
      ],
      "metadata": {
        "colab": {
          "base_uri": "https://localhost:8080/"
        },
        "id": "m3Wm5Hy6RKiU",
        "outputId": "22103f2f-96bb-4f56-e304-dcf03b180a61"
      },
      "execution_count": 4,
      "outputs": [
        {
          "output_type": "stream",
          "name": "stdout",
          "text": [
            "<class 'pandas.core.frame.DataFrame'>\n",
            "RangeIndex: 10692 entries, 0 to 10691\n",
            "Data columns (total 13 columns):\n",
            " #   Column               Non-Null Count  Dtype \n",
            "---  ------               --------------  ----- \n",
            " 0   city                 10692 non-null  object\n",
            " 1   area                 10692 non-null  int64 \n",
            " 2   rooms                10692 non-null  int64 \n",
            " 3   bathroom             10692 non-null  int64 \n",
            " 4   parking spaces       10692 non-null  int64 \n",
            " 5   floor                10692 non-null  object\n",
            " 6   animal               10692 non-null  object\n",
            " 7   furniture            10692 non-null  object\n",
            " 8   hoa (R$)             10692 non-null  int64 \n",
            " 9   rent amount (R$)     10692 non-null  int64 \n",
            " 10  property tax (R$)    10692 non-null  int64 \n",
            " 11  fire insurance (R$)  10692 non-null  int64 \n",
            " 12  total (R$)           10692 non-null  int64 \n",
            "dtypes: int64(9), object(4)\n",
            "memory usage: 1.1+ MB\n"
          ]
        }
      ]
    },
    {
      "cell_type": "code",
      "source": [
        "df.floor = df.floor.replace(to_replace='-', value=0)"
      ],
      "metadata": {
        "id": "BMKSbAGnNwGA"
      },
      "execution_count": 5,
      "outputs": []
    },
    {
      "cell_type": "code",
      "source": [
        "df.floor.dtype"
      ],
      "metadata": {
        "colab": {
          "base_uri": "https://localhost:8080/"
        },
        "id": "hCZq06Zi1NYr",
        "outputId": "a1cde5f0-6d75-46b5-bb54-97a898fee806"
      },
      "execution_count": 6,
      "outputs": [
        {
          "output_type": "execute_result",
          "data": {
            "text/plain": [
              "dtype('O')"
            ]
          },
          "metadata": {},
          "execution_count": 6
        }
      ]
    },
    {
      "cell_type": "code",
      "source": [
        "df.floor = df.floor.astype(str).astype(int)"
      ],
      "metadata": {
        "id": "uTwrhZ_8SBRY"
      },
      "execution_count": 7,
      "outputs": []
    },
    {
      "cell_type": "code",
      "source": [
        "df.floor.dtype"
      ],
      "metadata": {
        "colab": {
          "base_uri": "https://localhost:8080/"
        },
        "id": "Y-YW0hAx1SZ_",
        "outputId": "bf9f8189-0c18-4c8f-9f1e-00afb5c90367"
      },
      "execution_count": 8,
      "outputs": [
        {
          "output_type": "execute_result",
          "data": {
            "text/plain": [
              "dtype('int64')"
            ]
          },
          "metadata": {},
          "execution_count": 8
        }
      ]
    },
    {
      "cell_type": "code",
      "source": [
        "df.describe()"
      ],
      "metadata": {
        "colab": {
          "base_uri": "https://localhost:8080/",
          "height": 399
        },
        "id": "AzEL_9-rPLas",
        "outputId": "416db686-8864-454a-af1a-843ac217fefd"
      },
      "execution_count": 9,
      "outputs": [
        {
          "output_type": "execute_result",
          "data": {
            "text/plain": [
              "               area         rooms      bathroom  parking spaces         floor  \\\n",
              "count  10692.000000  10692.000000  10692.000000    10692.000000  10692.000000   \n",
              "mean     149.217920      2.506079      2.236813        1.609147      5.067995   \n",
              "std      537.016942      1.171266      1.407198        1.589521      6.069050   \n",
              "min       11.000000      1.000000      1.000000        0.000000      0.000000   \n",
              "25%       56.000000      2.000000      1.000000        0.000000      1.000000   \n",
              "50%       90.000000      2.000000      2.000000        1.000000      3.000000   \n",
              "75%      182.000000      3.000000      3.000000        2.000000      8.000000   \n",
              "max    46335.000000     13.000000     10.000000       12.000000    301.000000   \n",
              "\n",
              "           hoa (R$)  rent amount (R$)  property tax (R$)  fire insurance (R$)  \\\n",
              "count  1.069200e+04      10692.000000       10692.000000         10692.000000   \n",
              "mean   1.174022e+03       3896.247194         366.704358            53.300879   \n",
              "std    1.559231e+04       3408.545518        3107.832321            47.768031   \n",
              "min    0.000000e+00        450.000000           0.000000             3.000000   \n",
              "25%    1.700000e+02       1530.000000          38.000000            21.000000   \n",
              "50%    5.600000e+02       2661.000000         125.000000            36.000000   \n",
              "75%    1.237500e+03       5000.000000         375.000000            68.000000   \n",
              "max    1.117000e+06      45000.000000      313700.000000           677.000000   \n",
              "\n",
              "         total (R$)  \n",
              "count  1.069200e+04  \n",
              "mean   5.490487e+03  \n",
              "std    1.648473e+04  \n",
              "min    4.990000e+02  \n",
              "25%    2.061750e+03  \n",
              "50%    3.581500e+03  \n",
              "75%    6.768000e+03  \n",
              "max    1.120000e+06  "
            ],
            "text/html": [
              "\n",
              "  <div id=\"df-30bdad34-63ca-4257-aac2-f384c2f37a69\">\n",
              "    <div class=\"colab-df-container\">\n",
              "      <div>\n",
              "<style scoped>\n",
              "    .dataframe tbody tr th:only-of-type {\n",
              "        vertical-align: middle;\n",
              "    }\n",
              "\n",
              "    .dataframe tbody tr th {\n",
              "        vertical-align: top;\n",
              "    }\n",
              "\n",
              "    .dataframe thead th {\n",
              "        text-align: right;\n",
              "    }\n",
              "</style>\n",
              "<table border=\"1\" class=\"dataframe\">\n",
              "  <thead>\n",
              "    <tr style=\"text-align: right;\">\n",
              "      <th></th>\n",
              "      <th>area</th>\n",
              "      <th>rooms</th>\n",
              "      <th>bathroom</th>\n",
              "      <th>parking spaces</th>\n",
              "      <th>floor</th>\n",
              "      <th>hoa (R$)</th>\n",
              "      <th>rent amount (R$)</th>\n",
              "      <th>property tax (R$)</th>\n",
              "      <th>fire insurance (R$)</th>\n",
              "      <th>total (R$)</th>\n",
              "    </tr>\n",
              "  </thead>\n",
              "  <tbody>\n",
              "    <tr>\n",
              "      <th>count</th>\n",
              "      <td>10692.000000</td>\n",
              "      <td>10692.000000</td>\n",
              "      <td>10692.000000</td>\n",
              "      <td>10692.000000</td>\n",
              "      <td>10692.000000</td>\n",
              "      <td>1.069200e+04</td>\n",
              "      <td>10692.000000</td>\n",
              "      <td>10692.000000</td>\n",
              "      <td>10692.000000</td>\n",
              "      <td>1.069200e+04</td>\n",
              "    </tr>\n",
              "    <tr>\n",
              "      <th>mean</th>\n",
              "      <td>149.217920</td>\n",
              "      <td>2.506079</td>\n",
              "      <td>2.236813</td>\n",
              "      <td>1.609147</td>\n",
              "      <td>5.067995</td>\n",
              "      <td>1.174022e+03</td>\n",
              "      <td>3896.247194</td>\n",
              "      <td>366.704358</td>\n",
              "      <td>53.300879</td>\n",
              "      <td>5.490487e+03</td>\n",
              "    </tr>\n",
              "    <tr>\n",
              "      <th>std</th>\n",
              "      <td>537.016942</td>\n",
              "      <td>1.171266</td>\n",
              "      <td>1.407198</td>\n",
              "      <td>1.589521</td>\n",
              "      <td>6.069050</td>\n",
              "      <td>1.559231e+04</td>\n",
              "      <td>3408.545518</td>\n",
              "      <td>3107.832321</td>\n",
              "      <td>47.768031</td>\n",
              "      <td>1.648473e+04</td>\n",
              "    </tr>\n",
              "    <tr>\n",
              "      <th>min</th>\n",
              "      <td>11.000000</td>\n",
              "      <td>1.000000</td>\n",
              "      <td>1.000000</td>\n",
              "      <td>0.000000</td>\n",
              "      <td>0.000000</td>\n",
              "      <td>0.000000e+00</td>\n",
              "      <td>450.000000</td>\n",
              "      <td>0.000000</td>\n",
              "      <td>3.000000</td>\n",
              "      <td>4.990000e+02</td>\n",
              "    </tr>\n",
              "    <tr>\n",
              "      <th>25%</th>\n",
              "      <td>56.000000</td>\n",
              "      <td>2.000000</td>\n",
              "      <td>1.000000</td>\n",
              "      <td>0.000000</td>\n",
              "      <td>1.000000</td>\n",
              "      <td>1.700000e+02</td>\n",
              "      <td>1530.000000</td>\n",
              "      <td>38.000000</td>\n",
              "      <td>21.000000</td>\n",
              "      <td>2.061750e+03</td>\n",
              "    </tr>\n",
              "    <tr>\n",
              "      <th>50%</th>\n",
              "      <td>90.000000</td>\n",
              "      <td>2.000000</td>\n",
              "      <td>2.000000</td>\n",
              "      <td>1.000000</td>\n",
              "      <td>3.000000</td>\n",
              "      <td>5.600000e+02</td>\n",
              "      <td>2661.000000</td>\n",
              "      <td>125.000000</td>\n",
              "      <td>36.000000</td>\n",
              "      <td>3.581500e+03</td>\n",
              "    </tr>\n",
              "    <tr>\n",
              "      <th>75%</th>\n",
              "      <td>182.000000</td>\n",
              "      <td>3.000000</td>\n",
              "      <td>3.000000</td>\n",
              "      <td>2.000000</td>\n",
              "      <td>8.000000</td>\n",
              "      <td>1.237500e+03</td>\n",
              "      <td>5000.000000</td>\n",
              "      <td>375.000000</td>\n",
              "      <td>68.000000</td>\n",
              "      <td>6.768000e+03</td>\n",
              "    </tr>\n",
              "    <tr>\n",
              "      <th>max</th>\n",
              "      <td>46335.000000</td>\n",
              "      <td>13.000000</td>\n",
              "      <td>10.000000</td>\n",
              "      <td>12.000000</td>\n",
              "      <td>301.000000</td>\n",
              "      <td>1.117000e+06</td>\n",
              "      <td>45000.000000</td>\n",
              "      <td>313700.000000</td>\n",
              "      <td>677.000000</td>\n",
              "      <td>1.120000e+06</td>\n",
              "    </tr>\n",
              "  </tbody>\n",
              "</table>\n",
              "</div>\n",
              "      <button class=\"colab-df-convert\" onclick=\"convertToInteractive('df-30bdad34-63ca-4257-aac2-f384c2f37a69')\"\n",
              "              title=\"Convert this dataframe to an interactive table.\"\n",
              "              style=\"display:none;\">\n",
              "        \n",
              "  <svg xmlns=\"http://www.w3.org/2000/svg\" height=\"24px\"viewBox=\"0 0 24 24\"\n",
              "       width=\"24px\">\n",
              "    <path d=\"M0 0h24v24H0V0z\" fill=\"none\"/>\n",
              "    <path d=\"M18.56 5.44l.94 2.06.94-2.06 2.06-.94-2.06-.94-.94-2.06-.94 2.06-2.06.94zm-11 1L8.5 8.5l.94-2.06 2.06-.94-2.06-.94L8.5 2.5l-.94 2.06-2.06.94zm10 10l.94 2.06.94-2.06 2.06-.94-2.06-.94-.94-2.06-.94 2.06-2.06.94z\"/><path d=\"M17.41 7.96l-1.37-1.37c-.4-.4-.92-.59-1.43-.59-.52 0-1.04.2-1.43.59L10.3 9.45l-7.72 7.72c-.78.78-.78 2.05 0 2.83L4 21.41c.39.39.9.59 1.41.59.51 0 1.02-.2 1.41-.59l7.78-7.78 2.81-2.81c.8-.78.8-2.07 0-2.86zM5.41 20L4 18.59l7.72-7.72 1.47 1.35L5.41 20z\"/>\n",
              "  </svg>\n",
              "      </button>\n",
              "      \n",
              "  <style>\n",
              "    .colab-df-container {\n",
              "      display:flex;\n",
              "      flex-wrap:wrap;\n",
              "      gap: 12px;\n",
              "    }\n",
              "\n",
              "    .colab-df-convert {\n",
              "      background-color: #E8F0FE;\n",
              "      border: none;\n",
              "      border-radius: 50%;\n",
              "      cursor: pointer;\n",
              "      display: none;\n",
              "      fill: #1967D2;\n",
              "      height: 32px;\n",
              "      padding: 0 0 0 0;\n",
              "      width: 32px;\n",
              "    }\n",
              "\n",
              "    .colab-df-convert:hover {\n",
              "      background-color: #E2EBFA;\n",
              "      box-shadow: 0px 1px 2px rgba(60, 64, 67, 0.3), 0px 1px 3px 1px rgba(60, 64, 67, 0.15);\n",
              "      fill: #174EA6;\n",
              "    }\n",
              "\n",
              "    [theme=dark] .colab-df-convert {\n",
              "      background-color: #3B4455;\n",
              "      fill: #D2E3FC;\n",
              "    }\n",
              "\n",
              "    [theme=dark] .colab-df-convert:hover {\n",
              "      background-color: #434B5C;\n",
              "      box-shadow: 0px 1px 3px 1px rgba(0, 0, 0, 0.15);\n",
              "      filter: drop-shadow(0px 1px 2px rgba(0, 0, 0, 0.3));\n",
              "      fill: #FFFFFF;\n",
              "    }\n",
              "  </style>\n",
              "\n",
              "      <script>\n",
              "        const buttonEl =\n",
              "          document.querySelector('#df-30bdad34-63ca-4257-aac2-f384c2f37a69 button.colab-df-convert');\n",
              "        buttonEl.style.display =\n",
              "          google.colab.kernel.accessAllowed ? 'block' : 'none';\n",
              "\n",
              "        async function convertToInteractive(key) {\n",
              "          const element = document.querySelector('#df-30bdad34-63ca-4257-aac2-f384c2f37a69');\n",
              "          const dataTable =\n",
              "            await google.colab.kernel.invokeFunction('convertToInteractive',\n",
              "                                                     [key], {});\n",
              "          if (!dataTable) return;\n",
              "\n",
              "          const docLinkHtml = 'Like what you see? Visit the ' +\n",
              "            '<a target=\"_blank\" href=https://colab.research.google.com/notebooks/data_table.ipynb>data table notebook</a>'\n",
              "            + ' to learn more about interactive tables.';\n",
              "          element.innerHTML = '';\n",
              "          dataTable['output_type'] = 'display_data';\n",
              "          await google.colab.output.renderOutput(dataTable, element);\n",
              "          const docLink = document.createElement('div');\n",
              "          docLink.innerHTML = docLinkHtml;\n",
              "          element.appendChild(docLink);\n",
              "        }\n",
              "      </script>\n",
              "    </div>\n",
              "  </div>\n",
              "  "
            ]
          },
          "metadata": {},
          "execution_count": 9
        }
      ]
    },
    {
      "cell_type": "code",
      "source": [
        "df.isnull().sum()"
      ],
      "metadata": {
        "colab": {
          "base_uri": "https://localhost:8080/"
        },
        "id": "mUiwyKXmMEvK",
        "outputId": "f564467b-879a-4e5f-d491-62f8a86b100d"
      },
      "execution_count": 10,
      "outputs": [
        {
          "output_type": "execute_result",
          "data": {
            "text/plain": [
              "city                   0\n",
              "area                   0\n",
              "rooms                  0\n",
              "bathroom               0\n",
              "parking spaces         0\n",
              "floor                  0\n",
              "animal                 0\n",
              "furniture              0\n",
              "hoa (R$)               0\n",
              "rent amount (R$)       0\n",
              "property tax (R$)      0\n",
              "fire insurance (R$)    0\n",
              "total (R$)             0\n",
              "dtype: int64"
            ]
          },
          "metadata": {},
          "execution_count": 10
        }
      ]
    },
    {
      "cell_type": "code",
      "source": [
        "df.city.value_counts()"
      ],
      "metadata": {
        "colab": {
          "base_uri": "https://localhost:8080/"
        },
        "id": "zxPbax2qWyQH",
        "outputId": "c4dd6ddc-0879-4cc2-d545-1008f6d29b9c"
      },
      "execution_count": 11,
      "outputs": [
        {
          "output_type": "execute_result",
          "data": {
            "text/plain": [
              "São Paulo         5887\n",
              "Rio de Janeiro    1501\n",
              "Belo Horizonte    1258\n",
              "Porto Alegre      1193\n",
              "Campinas           853\n",
              "Name: city, dtype: int64"
            ]
          },
          "metadata": {},
          "execution_count": 11
        }
      ]
    },
    {
      "cell_type": "code",
      "source": [
        "df.city.unique()"
      ],
      "metadata": {
        "colab": {
          "base_uri": "https://localhost:8080/"
        },
        "id": "abaZEhGu2OJP",
        "outputId": "f1f0b361-2888-4ee0-d915-bf7706a79d1a"
      },
      "execution_count": 12,
      "outputs": [
        {
          "output_type": "execute_result",
          "data": {
            "text/plain": [
              "array(['São Paulo', 'Porto Alegre', 'Rio de Janeiro', 'Campinas',\n",
              "       'Belo Horizonte'], dtype=object)"
            ]
          },
          "metadata": {},
          "execution_count": 12
        }
      ]
    },
    {
      "cell_type": "code",
      "source": [
        "dfsao = df"
      ],
      "metadata": {
        "id": "BD-PxM0O2kwc"
      },
      "execution_count": 13,
      "outputs": []
    },
    {
      "cell_type": "code",
      "source": [
        "cit = df.groupby(\"city\").mean()"
      ],
      "metadata": {
        "id": "Z6YGB19Y3H-Q"
      },
      "execution_count": 14,
      "outputs": []
    },
    {
      "cell_type": "code",
      "source": [
        "cit"
      ],
      "metadata": {
        "colab": {
          "base_uri": "https://localhost:8080/",
          "height": 406
        },
        "id": "IKPyUC9g-Wvu",
        "outputId": "6ba31adf-1da1-49a3-d497-cb236b5924fa"
      },
      "execution_count": 15,
      "outputs": [
        {
          "output_type": "execute_result",
          "data": {
            "text/plain": [
              "                      area     rooms  bathroom  parking spaces     floor  \\\n",
              "city                                                                       \n",
              "Belo Horizonte  207.411765  3.020668  2.402226        1.955485  3.860890   \n",
              "Campinas        137.561547  2.355217  1.960141        1.558030  4.280188   \n",
              "Porto Alegre    103.609388  2.140821  1.725901        1.044426  3.918692   \n",
              "Rio de Janeiro  105.347768  2.243837  1.756163        0.744171  5.250500   \n",
              "São Paulo       158.899439  2.558859  2.467641        1.877527  5.626465   \n",
              "\n",
              "                   hoa (R$)  rent amount (R$)  property tax (R$)  \\\n",
              "city                                                               \n",
              "Belo Horizonte  2324.197138       3664.127981         272.782194   \n",
              "Campinas         628.922626       2364.290739         147.657679   \n",
              "Porto Alegre     491.618609       2337.699916         124.021794   \n",
              "Rio de Janeiro  1079.432378       3232.904064         256.853431   \n",
              "São Paulo       1169.627994       4652.793783         495.701716   \n",
              "\n",
              "                fire insurance (R$)   total (R$)  \n",
              "city                                              \n",
              "Belo Horizonte            53.675676  6315.242448  \n",
              "Campinas                  32.388042  3173.276671  \n",
              "Porto Alegre              36.425817  2989.782900  \n",
              "Rio de Janeiro            42.483011  4611.684877  \n",
              "São Paulo                 62.428911  6380.831833  "
            ],
            "text/html": [
              "\n",
              "  <div id=\"df-20b88702-54e7-46a2-baa7-26d61d3437e9\">\n",
              "    <div class=\"colab-df-container\">\n",
              "      <div>\n",
              "<style scoped>\n",
              "    .dataframe tbody tr th:only-of-type {\n",
              "        vertical-align: middle;\n",
              "    }\n",
              "\n",
              "    .dataframe tbody tr th {\n",
              "        vertical-align: top;\n",
              "    }\n",
              "\n",
              "    .dataframe thead th {\n",
              "        text-align: right;\n",
              "    }\n",
              "</style>\n",
              "<table border=\"1\" class=\"dataframe\">\n",
              "  <thead>\n",
              "    <tr style=\"text-align: right;\">\n",
              "      <th></th>\n",
              "      <th>area</th>\n",
              "      <th>rooms</th>\n",
              "      <th>bathroom</th>\n",
              "      <th>parking spaces</th>\n",
              "      <th>floor</th>\n",
              "      <th>hoa (R$)</th>\n",
              "      <th>rent amount (R$)</th>\n",
              "      <th>property tax (R$)</th>\n",
              "      <th>fire insurance (R$)</th>\n",
              "      <th>total (R$)</th>\n",
              "    </tr>\n",
              "    <tr>\n",
              "      <th>city</th>\n",
              "      <th></th>\n",
              "      <th></th>\n",
              "      <th></th>\n",
              "      <th></th>\n",
              "      <th></th>\n",
              "      <th></th>\n",
              "      <th></th>\n",
              "      <th></th>\n",
              "      <th></th>\n",
              "      <th></th>\n",
              "    </tr>\n",
              "  </thead>\n",
              "  <tbody>\n",
              "    <tr>\n",
              "      <th>Belo Horizonte</th>\n",
              "      <td>207.411765</td>\n",
              "      <td>3.020668</td>\n",
              "      <td>2.402226</td>\n",
              "      <td>1.955485</td>\n",
              "      <td>3.860890</td>\n",
              "      <td>2324.197138</td>\n",
              "      <td>3664.127981</td>\n",
              "      <td>272.782194</td>\n",
              "      <td>53.675676</td>\n",
              "      <td>6315.242448</td>\n",
              "    </tr>\n",
              "    <tr>\n",
              "      <th>Campinas</th>\n",
              "      <td>137.561547</td>\n",
              "      <td>2.355217</td>\n",
              "      <td>1.960141</td>\n",
              "      <td>1.558030</td>\n",
              "      <td>4.280188</td>\n",
              "      <td>628.922626</td>\n",
              "      <td>2364.290739</td>\n",
              "      <td>147.657679</td>\n",
              "      <td>32.388042</td>\n",
              "      <td>3173.276671</td>\n",
              "    </tr>\n",
              "    <tr>\n",
              "      <th>Porto Alegre</th>\n",
              "      <td>103.609388</td>\n",
              "      <td>2.140821</td>\n",
              "      <td>1.725901</td>\n",
              "      <td>1.044426</td>\n",
              "      <td>3.918692</td>\n",
              "      <td>491.618609</td>\n",
              "      <td>2337.699916</td>\n",
              "      <td>124.021794</td>\n",
              "      <td>36.425817</td>\n",
              "      <td>2989.782900</td>\n",
              "    </tr>\n",
              "    <tr>\n",
              "      <th>Rio de Janeiro</th>\n",
              "      <td>105.347768</td>\n",
              "      <td>2.243837</td>\n",
              "      <td>1.756163</td>\n",
              "      <td>0.744171</td>\n",
              "      <td>5.250500</td>\n",
              "      <td>1079.432378</td>\n",
              "      <td>3232.904064</td>\n",
              "      <td>256.853431</td>\n",
              "      <td>42.483011</td>\n",
              "      <td>4611.684877</td>\n",
              "    </tr>\n",
              "    <tr>\n",
              "      <th>São Paulo</th>\n",
              "      <td>158.899439</td>\n",
              "      <td>2.558859</td>\n",
              "      <td>2.467641</td>\n",
              "      <td>1.877527</td>\n",
              "      <td>5.626465</td>\n",
              "      <td>1169.627994</td>\n",
              "      <td>4652.793783</td>\n",
              "      <td>495.701716</td>\n",
              "      <td>62.428911</td>\n",
              "      <td>6380.831833</td>\n",
              "    </tr>\n",
              "  </tbody>\n",
              "</table>\n",
              "</div>\n",
              "      <button class=\"colab-df-convert\" onclick=\"convertToInteractive('df-20b88702-54e7-46a2-baa7-26d61d3437e9')\"\n",
              "              title=\"Convert this dataframe to an interactive table.\"\n",
              "              style=\"display:none;\">\n",
              "        \n",
              "  <svg xmlns=\"http://www.w3.org/2000/svg\" height=\"24px\"viewBox=\"0 0 24 24\"\n",
              "       width=\"24px\">\n",
              "    <path d=\"M0 0h24v24H0V0z\" fill=\"none\"/>\n",
              "    <path d=\"M18.56 5.44l.94 2.06.94-2.06 2.06-.94-2.06-.94-.94-2.06-.94 2.06-2.06.94zm-11 1L8.5 8.5l.94-2.06 2.06-.94-2.06-.94L8.5 2.5l-.94 2.06-2.06.94zm10 10l.94 2.06.94-2.06 2.06-.94-2.06-.94-.94-2.06-.94 2.06-2.06.94z\"/><path d=\"M17.41 7.96l-1.37-1.37c-.4-.4-.92-.59-1.43-.59-.52 0-1.04.2-1.43.59L10.3 9.45l-7.72 7.72c-.78.78-.78 2.05 0 2.83L4 21.41c.39.39.9.59 1.41.59.51 0 1.02-.2 1.41-.59l7.78-7.78 2.81-2.81c.8-.78.8-2.07 0-2.86zM5.41 20L4 18.59l7.72-7.72 1.47 1.35L5.41 20z\"/>\n",
              "  </svg>\n",
              "      </button>\n",
              "      \n",
              "  <style>\n",
              "    .colab-df-container {\n",
              "      display:flex;\n",
              "      flex-wrap:wrap;\n",
              "      gap: 12px;\n",
              "    }\n",
              "\n",
              "    .colab-df-convert {\n",
              "      background-color: #E8F0FE;\n",
              "      border: none;\n",
              "      border-radius: 50%;\n",
              "      cursor: pointer;\n",
              "      display: none;\n",
              "      fill: #1967D2;\n",
              "      height: 32px;\n",
              "      padding: 0 0 0 0;\n",
              "      width: 32px;\n",
              "    }\n",
              "\n",
              "    .colab-df-convert:hover {\n",
              "      background-color: #E2EBFA;\n",
              "      box-shadow: 0px 1px 2px rgba(60, 64, 67, 0.3), 0px 1px 3px 1px rgba(60, 64, 67, 0.15);\n",
              "      fill: #174EA6;\n",
              "    }\n",
              "\n",
              "    [theme=dark] .colab-df-convert {\n",
              "      background-color: #3B4455;\n",
              "      fill: #D2E3FC;\n",
              "    }\n",
              "\n",
              "    [theme=dark] .colab-df-convert:hover {\n",
              "      background-color: #434B5C;\n",
              "      box-shadow: 0px 1px 3px 1px rgba(0, 0, 0, 0.15);\n",
              "      filter: drop-shadow(0px 1px 2px rgba(0, 0, 0, 0.3));\n",
              "      fill: #FFFFFF;\n",
              "    }\n",
              "  </style>\n",
              "\n",
              "      <script>\n",
              "        const buttonEl =\n",
              "          document.querySelector('#df-20b88702-54e7-46a2-baa7-26d61d3437e9 button.colab-df-convert');\n",
              "        buttonEl.style.display =\n",
              "          google.colab.kernel.accessAllowed ? 'block' : 'none';\n",
              "\n",
              "        async function convertToInteractive(key) {\n",
              "          const element = document.querySelector('#df-20b88702-54e7-46a2-baa7-26d61d3437e9');\n",
              "          const dataTable =\n",
              "            await google.colab.kernel.invokeFunction('convertToInteractive',\n",
              "                                                     [key], {});\n",
              "          if (!dataTable) return;\n",
              "\n",
              "          const docLinkHtml = 'Like what you see? Visit the ' +\n",
              "            '<a target=\"_blank\" href=https://colab.research.google.com/notebooks/data_table.ipynb>data table notebook</a>'\n",
              "            + ' to learn more about interactive tables.';\n",
              "          element.innerHTML = '';\n",
              "          dataTable['output_type'] = 'display_data';\n",
              "          await google.colab.output.renderOutput(dataTable, element);\n",
              "          const docLink = document.createElement('div');\n",
              "          docLink.innerHTML = docLinkHtml;\n",
              "          element.appendChild(docLink);\n",
              "        }\n",
              "      </script>\n",
              "    </div>\n",
              "  </div>\n",
              "  "
            ]
          },
          "metadata": {},
          "execution_count": 15
        }
      ]
    },
    {
      "cell_type": "code",
      "source": [
        "cit = cit.reset_index()\n",
        "cit"
      ],
      "metadata": {
        "colab": {
          "base_uri": "https://localhost:8080/",
          "height": 374
        },
        "id": "IRf2Mr53B9qM",
        "outputId": "7da6fa7e-17fd-4651-c2a5-4bdf38b8ad7f"
      },
      "execution_count": 16,
      "outputs": [
        {
          "output_type": "execute_result",
          "data": {
            "text/plain": [
              "             city        area     rooms  bathroom  parking spaces     floor  \\\n",
              "0  Belo Horizonte  207.411765  3.020668  2.402226        1.955485  3.860890   \n",
              "1        Campinas  137.561547  2.355217  1.960141        1.558030  4.280188   \n",
              "2    Porto Alegre  103.609388  2.140821  1.725901        1.044426  3.918692   \n",
              "3  Rio de Janeiro  105.347768  2.243837  1.756163        0.744171  5.250500   \n",
              "4       São Paulo  158.899439  2.558859  2.467641        1.877527  5.626465   \n",
              "\n",
              "      hoa (R$)  rent amount (R$)  property tax (R$)  fire insurance (R$)  \\\n",
              "0  2324.197138       3664.127981         272.782194            53.675676   \n",
              "1   628.922626       2364.290739         147.657679            32.388042   \n",
              "2   491.618609       2337.699916         124.021794            36.425817   \n",
              "3  1079.432378       3232.904064         256.853431            42.483011   \n",
              "4  1169.627994       4652.793783         495.701716            62.428911   \n",
              "\n",
              "    total (R$)  \n",
              "0  6315.242448  \n",
              "1  3173.276671  \n",
              "2  2989.782900  \n",
              "3  4611.684877  \n",
              "4  6380.831833  "
            ],
            "text/html": [
              "\n",
              "  <div id=\"df-4d49fd8f-4fac-4edb-b0f2-79475bf2f7cb\">\n",
              "    <div class=\"colab-df-container\">\n",
              "      <div>\n",
              "<style scoped>\n",
              "    .dataframe tbody tr th:only-of-type {\n",
              "        vertical-align: middle;\n",
              "    }\n",
              "\n",
              "    .dataframe tbody tr th {\n",
              "        vertical-align: top;\n",
              "    }\n",
              "\n",
              "    .dataframe thead th {\n",
              "        text-align: right;\n",
              "    }\n",
              "</style>\n",
              "<table border=\"1\" class=\"dataframe\">\n",
              "  <thead>\n",
              "    <tr style=\"text-align: right;\">\n",
              "      <th></th>\n",
              "      <th>city</th>\n",
              "      <th>area</th>\n",
              "      <th>rooms</th>\n",
              "      <th>bathroom</th>\n",
              "      <th>parking spaces</th>\n",
              "      <th>floor</th>\n",
              "      <th>hoa (R$)</th>\n",
              "      <th>rent amount (R$)</th>\n",
              "      <th>property tax (R$)</th>\n",
              "      <th>fire insurance (R$)</th>\n",
              "      <th>total (R$)</th>\n",
              "    </tr>\n",
              "  </thead>\n",
              "  <tbody>\n",
              "    <tr>\n",
              "      <th>0</th>\n",
              "      <td>Belo Horizonte</td>\n",
              "      <td>207.411765</td>\n",
              "      <td>3.020668</td>\n",
              "      <td>2.402226</td>\n",
              "      <td>1.955485</td>\n",
              "      <td>3.860890</td>\n",
              "      <td>2324.197138</td>\n",
              "      <td>3664.127981</td>\n",
              "      <td>272.782194</td>\n",
              "      <td>53.675676</td>\n",
              "      <td>6315.242448</td>\n",
              "    </tr>\n",
              "    <tr>\n",
              "      <th>1</th>\n",
              "      <td>Campinas</td>\n",
              "      <td>137.561547</td>\n",
              "      <td>2.355217</td>\n",
              "      <td>1.960141</td>\n",
              "      <td>1.558030</td>\n",
              "      <td>4.280188</td>\n",
              "      <td>628.922626</td>\n",
              "      <td>2364.290739</td>\n",
              "      <td>147.657679</td>\n",
              "      <td>32.388042</td>\n",
              "      <td>3173.276671</td>\n",
              "    </tr>\n",
              "    <tr>\n",
              "      <th>2</th>\n",
              "      <td>Porto Alegre</td>\n",
              "      <td>103.609388</td>\n",
              "      <td>2.140821</td>\n",
              "      <td>1.725901</td>\n",
              "      <td>1.044426</td>\n",
              "      <td>3.918692</td>\n",
              "      <td>491.618609</td>\n",
              "      <td>2337.699916</td>\n",
              "      <td>124.021794</td>\n",
              "      <td>36.425817</td>\n",
              "      <td>2989.782900</td>\n",
              "    </tr>\n",
              "    <tr>\n",
              "      <th>3</th>\n",
              "      <td>Rio de Janeiro</td>\n",
              "      <td>105.347768</td>\n",
              "      <td>2.243837</td>\n",
              "      <td>1.756163</td>\n",
              "      <td>0.744171</td>\n",
              "      <td>5.250500</td>\n",
              "      <td>1079.432378</td>\n",
              "      <td>3232.904064</td>\n",
              "      <td>256.853431</td>\n",
              "      <td>42.483011</td>\n",
              "      <td>4611.684877</td>\n",
              "    </tr>\n",
              "    <tr>\n",
              "      <th>4</th>\n",
              "      <td>São Paulo</td>\n",
              "      <td>158.899439</td>\n",
              "      <td>2.558859</td>\n",
              "      <td>2.467641</td>\n",
              "      <td>1.877527</td>\n",
              "      <td>5.626465</td>\n",
              "      <td>1169.627994</td>\n",
              "      <td>4652.793783</td>\n",
              "      <td>495.701716</td>\n",
              "      <td>62.428911</td>\n",
              "      <td>6380.831833</td>\n",
              "    </tr>\n",
              "  </tbody>\n",
              "</table>\n",
              "</div>\n",
              "      <button class=\"colab-df-convert\" onclick=\"convertToInteractive('df-4d49fd8f-4fac-4edb-b0f2-79475bf2f7cb')\"\n",
              "              title=\"Convert this dataframe to an interactive table.\"\n",
              "              style=\"display:none;\">\n",
              "        \n",
              "  <svg xmlns=\"http://www.w3.org/2000/svg\" height=\"24px\"viewBox=\"0 0 24 24\"\n",
              "       width=\"24px\">\n",
              "    <path d=\"M0 0h24v24H0V0z\" fill=\"none\"/>\n",
              "    <path d=\"M18.56 5.44l.94 2.06.94-2.06 2.06-.94-2.06-.94-.94-2.06-.94 2.06-2.06.94zm-11 1L8.5 8.5l.94-2.06 2.06-.94-2.06-.94L8.5 2.5l-.94 2.06-2.06.94zm10 10l.94 2.06.94-2.06 2.06-.94-2.06-.94-.94-2.06-.94 2.06-2.06.94z\"/><path d=\"M17.41 7.96l-1.37-1.37c-.4-.4-.92-.59-1.43-.59-.52 0-1.04.2-1.43.59L10.3 9.45l-7.72 7.72c-.78.78-.78 2.05 0 2.83L4 21.41c.39.39.9.59 1.41.59.51 0 1.02-.2 1.41-.59l7.78-7.78 2.81-2.81c.8-.78.8-2.07 0-2.86zM5.41 20L4 18.59l7.72-7.72 1.47 1.35L5.41 20z\"/>\n",
              "  </svg>\n",
              "      </button>\n",
              "      \n",
              "  <style>\n",
              "    .colab-df-container {\n",
              "      display:flex;\n",
              "      flex-wrap:wrap;\n",
              "      gap: 12px;\n",
              "    }\n",
              "\n",
              "    .colab-df-convert {\n",
              "      background-color: #E8F0FE;\n",
              "      border: none;\n",
              "      border-radius: 50%;\n",
              "      cursor: pointer;\n",
              "      display: none;\n",
              "      fill: #1967D2;\n",
              "      height: 32px;\n",
              "      padding: 0 0 0 0;\n",
              "      width: 32px;\n",
              "    }\n",
              "\n",
              "    .colab-df-convert:hover {\n",
              "      background-color: #E2EBFA;\n",
              "      box-shadow: 0px 1px 2px rgba(60, 64, 67, 0.3), 0px 1px 3px 1px rgba(60, 64, 67, 0.15);\n",
              "      fill: #174EA6;\n",
              "    }\n",
              "\n",
              "    [theme=dark] .colab-df-convert {\n",
              "      background-color: #3B4455;\n",
              "      fill: #D2E3FC;\n",
              "    }\n",
              "\n",
              "    [theme=dark] .colab-df-convert:hover {\n",
              "      background-color: #434B5C;\n",
              "      box-shadow: 0px 1px 3px 1px rgba(0, 0, 0, 0.15);\n",
              "      filter: drop-shadow(0px 1px 2px rgba(0, 0, 0, 0.3));\n",
              "      fill: #FFFFFF;\n",
              "    }\n",
              "  </style>\n",
              "\n",
              "      <script>\n",
              "        const buttonEl =\n",
              "          document.querySelector('#df-4d49fd8f-4fac-4edb-b0f2-79475bf2f7cb button.colab-df-convert');\n",
              "        buttonEl.style.display =\n",
              "          google.colab.kernel.accessAllowed ? 'block' : 'none';\n",
              "\n",
              "        async function convertToInteractive(key) {\n",
              "          const element = document.querySelector('#df-4d49fd8f-4fac-4edb-b0f2-79475bf2f7cb');\n",
              "          const dataTable =\n",
              "            await google.colab.kernel.invokeFunction('convertToInteractive',\n",
              "                                                     [key], {});\n",
              "          if (!dataTable) return;\n",
              "\n",
              "          const docLinkHtml = 'Like what you see? Visit the ' +\n",
              "            '<a target=\"_blank\" href=https://colab.research.google.com/notebooks/data_table.ipynb>data table notebook</a>'\n",
              "            + ' to learn more about interactive tables.';\n",
              "          element.innerHTML = '';\n",
              "          dataTable['output_type'] = 'display_data';\n",
              "          await google.colab.output.renderOutput(dataTable, element);\n",
              "          const docLink = document.createElement('div');\n",
              "          docLink.innerHTML = docLinkHtml;\n",
              "          element.appendChild(docLink);\n",
              "        }\n",
              "      </script>\n",
              "    </div>\n",
              "  </div>\n",
              "  "
            ]
          },
          "metadata": {},
          "execution_count": 16
        }
      ]
    },
    {
      "cell_type": "code",
      "source": [
        "cit.columns"
      ],
      "metadata": {
        "colab": {
          "base_uri": "https://localhost:8080/"
        },
        "id": "j7L7CYLTCTkS",
        "outputId": "c483b443-1019-4d86-ea21-6a2a7e52c823"
      },
      "execution_count": 17,
      "outputs": [
        {
          "output_type": "execute_result",
          "data": {
            "text/plain": [
              "Index(['city', 'area', 'rooms', 'bathroom', 'parking spaces', 'floor',\n",
              "       'hoa (R$)', 'rent amount (R$)', 'property tax (R$)',\n",
              "       'fire insurance (R$)', 'total (R$)'],\n",
              "      dtype='object')"
            ]
          },
          "metadata": {},
          "execution_count": 17
        }
      ]
    },
    {
      "cell_type": "code",
      "source": [
        "plt.bar(cit.city,cit.area)\n",
        "plt.xlabel('city')\n",
        "plt.ylabel('area mean')\n",
        "plt.show()"
      ],
      "metadata": {
        "colab": {
          "base_uri": "https://localhost:8080/",
          "height": 279
        },
        "id": "NpCVD_g_3H7s",
        "outputId": "76325bb6-d1c1-4f9f-c477-69cba6c7d7b6"
      },
      "execution_count": 18,
      "outputs": [
        {
          "output_type": "display_data",
          "data": {
            "text/plain": [
              "<Figure size 432x288 with 1 Axes>"
            ],
            "image/png": "[encoded data removed]"
          },
          "metadata": {
            "needs_background": "light"
          }
        }
      ]
    },
    {
      "cell_type": "code",
      "source": [
        "plt.bar(cit.city,cit.rooms)\n",
        "plt.xlabel('city')\n",
        "plt.ylabel('rooms mean')\n",
        "plt.show()"
      ],
      "metadata": {
        "colab": {
          "base_uri": "https://localhost:8080/",
          "height": 279
        },
        "id": "VsHeMmYOD9EV",
        "outputId": "fae646bd-77f1-493d-8723-748d02283c52"
      },
      "execution_count": 19,
      "outputs": [
        {
          "output_type": "display_data",
          "data": {
            "text/plain": [
              "<Figure size 432x288 with 1 Axes>"
            ],
            "image/png": "[encoded data removed]"
          },
          "metadata": {
            "needs_background": "light"
          }
        }
      ]
    },
    {
      "cell_type": "code",
      "source": [
        "plt.bar(cit.city,cit.area)\n",
        "plt.xlabel('city')\n",
        "plt.ylabel('area mean')\n",
        "plt.show()"
      ],
      "metadata": {
        "colab": {
          "base_uri": "https://localhost:8080/",
          "height": 279
        },
        "id": "CPaQaoO7D87N",
        "outputId": "2854fcef-502d-4f47-fdca-01f5a819dcf4"
      },
      "execution_count": 20,
      "outputs": [
        {
          "output_type": "display_data",
          "data": {
            "text/plain": [
              "<Figure size 432x288 with 1 Axes>"
            ],
            "image/png": "[encoded data removed]"
          },
          "metadata": {
            "needs_background": "light"
          }
        }
      ]
    },
    {
      "cell_type": "code",
      "source": [
        "plt.bar(cit.city,cit.bathroom)\n",
        "plt.xlabel('city')\n",
        "plt.ylabel('bathroom mean')\n",
        "plt.show()"
      ],
      "metadata": {
        "colab": {
          "base_uri": "https://localhost:8080/",
          "height": 279
        },
        "id": "kS2ZF8WWD8vH",
        "outputId": "06a2da15-448f-4511-dc88-58c461e485c0"
      },
      "execution_count": 21,
      "outputs": [
        {
          "output_type": "display_data",
          "data": {
            "text/plain": [
              "<Figure size 432x288 with 1 Axes>"
            ],
            "image/png": "[encoded data removed]"
          },
          "metadata": {
            "needs_background": "light"
          }
        }
      ]
    },
    {
      "cell_type": "code",
      "source": [
        "plt.bar(cit.city,cit[\"parking spaces\"])\n",
        "plt.xlabel('city')\n",
        "plt.ylabel('parking spaces mean')\n",
        "plt.show()"
      ],
      "metadata": {
        "colab": {
          "base_uri": "https://localhost:8080/",
          "height": 279
        },
        "id": "Mps_Fb43D8nM",
        "outputId": "f0bd8b17-d96a-4979-88ab-277153fb1a9f"
      },
      "execution_count": 22,
      "outputs": [
        {
          "output_type": "display_data",
          "data": {
            "text/plain": [
              "<Figure size 432x288 with 1 Axes>"
            ],
            "image/png": "[encoded data removed]"
          },
          "metadata": {
            "needs_background": "light"
          }
        }
      ]
    },
    {
      "cell_type": "code",
      "source": [
        "plt.bar(cit.city,cit.floor)\n",
        "plt.xlabel('city')\n",
        "plt.ylabel('floor mean')\n",
        "plt.show()"
      ],
      "metadata": {
        "colab": {
          "base_uri": "https://localhost:8080/",
          "height": 279
        },
        "id": "7RH4uEgFD8gl",
        "outputId": "8a335245-95f6-436f-c12a-691c356d63a3"
      },
      "execution_count": 23,
      "outputs": [
        {
          "output_type": "display_data",
          "data": {
            "text/plain": [
              "<Figure size 432x288 with 1 Axes>"
            ],
            "image/png": "[encoded data removed]"
          },
          "metadata": {
            "needs_background": "light"
          }
        }
      ]
    },
    {
      "cell_type": "code",
      "source": [
        "plt.bar(cit.city,cit[\"hoa (R$)\"])\n",
        "plt.xlabel('city')\n",
        "plt.ylabel('hoa (R$) mean')\n",
        "plt.show()"
      ],
      "metadata": {
        "colab": {
          "base_uri": "https://localhost:8080/",
          "height": 279
        },
        "id": "8sxr17h8D8aC",
        "outputId": "112d6b46-e40e-4d19-d550-cf676328902c"
      },
      "execution_count": 24,
      "outputs": [
        {
          "output_type": "display_data",
          "data": {
            "text/plain": [
              "<Figure size 432x288 with 1 Axes>"
            ],
            "image/png": "[encoded data removed]"
          },
          "metadata": {
            "needs_background": "light"
          }
        }
      ]
    },
    {
      "cell_type": "code",
      "source": [
        "plt.bar(cit.city,cit[\"rent amount (R$)\"])\n",
        "plt.xlabel('city')\n",
        "plt.ylabel('rent amount (R$) mean')\n",
        "plt.show()"
      ],
      "metadata": {
        "colab": {
          "base_uri": "https://localhost:8080/",
          "height": 279
        },
        "id": "tHtGbUqND8TK",
        "outputId": "d396f28d-4144-4b80-dbe8-ea0ffc7cc558"
      },
      "execution_count": 25,
      "outputs": [
        {
          "output_type": "display_data",
          "data": {
            "text/plain": [
              "<Figure size 432x288 with 1 Axes>"
            ],
            "image/png": "[encoded data removed]"
          },
          "metadata": {
            "needs_background": "light"
          }
        }
      ]
    },
    {
      "cell_type": "code",
      "source": [
        "plt.bar(cit.city,cit[\"property tax (R$)\"])\n",
        "plt.xlabel('city')\n",
        "plt.ylabel('property tax (R$) mean')\n",
        "plt.show()"
      ],
      "metadata": {
        "colab": {
          "base_uri": "https://localhost:8080/",
          "height": 279
        },
        "id": "VhsH1frcD8My",
        "outputId": "76ee969a-b4c2-4bed-ecf5-e6e2b37bd970"
      },
      "execution_count": 26,
      "outputs": [
        {
          "output_type": "display_data",
          "data": {
            "text/plain": [
              "<Figure size 432x288 with 1 Axes>"
            ],
            "image/png": "[encoded data removed]"
          },
          "metadata": {
            "needs_background": "light"
          }
        }
      ]
    },
    {
      "cell_type": "code",
      "source": [
        "plt.bar(cit.city,cit[\"fire insurance (R$)\"])\n",
        "plt.xlabel('city')\n",
        "plt.ylabel('fire insurance (R$) mean')\n",
        "plt.show()"
      ],
      "metadata": {
        "colab": {
          "base_uri": "https://localhost:8080/",
          "height": 279
        },
        "id": "XK9uaOLLD8HF",
        "outputId": "73364dd5-fb7a-4fc3-f9d6-1a9e9b9a87a4"
      },
      "execution_count": 27,
      "outputs": [
        {
          "output_type": "display_data",
          "data": {
            "text/plain": [
              "<Figure size 432x288 with 1 Axes>"
            ],
            "image/png": "[encoded data removed]"
          },
          "metadata": {
            "needs_background": "light"
          }
        }
      ]
    },
    {
      "cell_type": "code",
      "source": [
        "plt.bar(cit.city,cit[\"total (R$)\"])\n",
        "plt.xlabel('city')\n",
        "plt.ylabel('total (R$) mean')\n",
        "plt.show()"
      ],
      "metadata": {
        "id": "c_mtlI0o2OGh",
        "colab": {
          "base_uri": "https://localhost:8080/",
          "height": 279
        },
        "outputId": "43d25273-528f-488f-a20c-736b411d6f2d"
      },
      "execution_count": 28,
      "outputs": [
        {
          "output_type": "display_data",
          "data": {
            "text/plain": [
              "<Figure size 432x288 with 1 Axes>"
            ],
            "image/png": "[encoded data removed]"
          },
          "metadata": {
            "needs_background": "light"
          }
        }
      ]
    },
    {
      "cell_type": "code",
      "source": [
        "df.corr()"
      ],
      "metadata": {
        "id": "lpIvEUcWnIcn",
        "colab": {
          "base_uri": "https://localhost:8080/",
          "height": 566
        },
        "outputId": "d6f2be7e-6e68-4069-f1c4-88ebeccf8d3d"
      },
      "execution_count": 29,
      "outputs": [
        {
          "output_type": "execute_result",
          "data": {
            "text/plain": [
              "                         area     rooms  bathroom  parking spaces     floor  \\\n",
              "area                 1.000000  0.193796  0.226766        0.193983 -0.012724   \n",
              "rooms                0.193796  1.000000  0.733763        0.617510 -0.078687   \n",
              "bathroom             0.226766  0.733763  1.000000        0.697379  0.004894   \n",
              "parking spaces       0.193983  0.617510  0.697379        1.000000 -0.020767   \n",
              "floor               -0.012724 -0.078687  0.004894       -0.020767  1.000000   \n",
              "hoa (R$)             0.006890  0.007139  0.050271        0.009321  0.019872   \n",
              "rent amount (R$)     0.180742  0.541758  0.668504        0.578361  0.073596   \n",
              "property tax (R$)    0.039059  0.075252  0.109253        0.098378  0.012626   \n",
              "fire insurance (R$)  0.188078  0.565148  0.676399        0.597348  0.013652   \n",
              "total (R$)           0.051799  0.134597  0.208339        0.148684  0.036431   \n",
              "\n",
              "                     hoa (R$)  rent amount (R$)  property tax (R$)  \\\n",
              "area                 0.006890          0.180742           0.039059   \n",
              "rooms                0.007139          0.541758           0.075252   \n",
              "bathroom             0.050271          0.668504           0.109253   \n",
              "parking spaces       0.009321          0.578361           0.098378   \n",
              "floor                0.019872          0.073596           0.012626   \n",
              "hoa (R$)             1.000000          0.036490           0.007627   \n",
              "rent amount (R$)     0.036490          1.000000           0.107884   \n",
              "property tax (R$)    0.007627          0.107884           1.000000   \n",
              "fire insurance (R$)  0.029535          0.987343           0.105661   \n",
              "total (R$)           0.955024          0.264490           0.218344   \n",
              "\n",
              "                     fire insurance (R$)  total (R$)  \n",
              "area                            0.188078    0.051799  \n",
              "rooms                           0.565148    0.134597  \n",
              "bathroom                        0.676399    0.208339  \n",
              "parking spaces                  0.597348    0.148684  \n",
              "floor                           0.013652    0.036431  \n",
              "hoa (R$)                        0.029535    0.955024  \n",
              "rent amount (R$)                0.987343    0.264490  \n",
              "property tax (R$)               0.105661    0.218344  \n",
              "fire insurance (R$)             1.000000    0.254911  \n",
              "total (R$)                      0.254911    1.000000  "
            ],
            "text/html": [
              "\n",
              "  <div id=\"df-2cb585e7-0655-4480-9b90-59771523623d\">\n",
              "    <div class=\"colab-df-container\">\n",
              "      <div>\n",
              "<style scoped>\n",
              "    .dataframe tbody tr th:only-of-type {\n",
              "        vertical-align: middle;\n",
              "    }\n",
              "\n",
              "    .dataframe tbody tr th {\n",
              "        vertical-align: top;\n",
              "    }\n",
              "\n",
              "    .dataframe thead th {\n",
              "        text-align: right;\n",
              "    }\n",
              "</style>\n",
              "<table border=\"1\" class=\"dataframe\">\n",
              "  <thead>\n",
              "    <tr style=\"text-align: right;\">\n",
              "      <th></th>\n",
              "      <th>area</th>\n",
              "      <th>rooms</th>\n",
              "      <th>bathroom</th>\n",
              "      <th>parking spaces</th>\n",
              "      <th>floor</th>\n",
              "      <th>hoa (R$)</th>\n",
              "      <th>rent amount (R$)</th>\n",
              "      <th>property tax (R$)</th>\n",
              "      <th>fire insurance (R$)</th>\n",
              "      <th>total (R$)</th>\n",
              "    </tr>\n",
              "  </thead>\n",
              "  <tbody>\n",
              "    <tr>\n",
              "      <th>area</th>\n",
              "      <td>1.000000</td>\n",
              "      <td>0.193796</td>\n",
              "      <td>0.226766</td>\n",
              "      <td>0.193983</td>\n",
              "      <td>-0.012724</td>\n",
              "      <td>0.006890</td>\n",
              "      <td>0.180742</td>\n",
              "      <td>0.039059</td>\n",
              "      <td>0.188078</td>\n",
              "      <td>0.051799</td>\n",
              "    </tr>\n",
              "    <tr>\n",
              "      <th>rooms</th>\n",
              "      <td>0.193796</td>\n",
              "      <td>1.000000</td>\n",
              "      <td>0.733763</td>\n",
              "      <td>0.617510</td>\n",
              "      <td>-0.078687</td>\n",
              "      <td>0.007139</td>\n",
              "      <td>0.541758</td>\n",
              "      <td>0.075252</td>\n",
              "      <td>0.565148</td>\n",
              "      <td>0.134597</td>\n",
              "    </tr>\n",
              "    <tr>\n",
              "      <th>bathroom</th>\n",
              "      <td>0.226766</td>\n",
              "      <td>0.733763</td>\n",
              "      <td>1.000000</td>\n",
              "      <td>0.697379</td>\n",
              "      <td>0.004894</td>\n",
              "      <td>0.050271</td>\n",
              "      <td>0.668504</td>\n",
              "      <td>0.109253</td>\n",
              "      <td>0.676399</td>\n",
              "      <td>0.208339</td>\n",
              "    </tr>\n",
              "    <tr>\n",
              "      <th>parking spaces</th>\n",
              "      <td>0.193983</td>\n",
              "      <td>0.617510</td>\n",
              "      <td>0.697379</td>\n",
              "      <td>1.000000</td>\n",
              "      <td>-0.020767</td>\n",
              "      <td>0.009321</td>\n",
              "      <td>0.578361</td>\n",
              "      <td>0.098378</td>\n",
              "      <td>0.597348</td>\n",
              "      <td>0.148684</td>\n",
              "    </tr>\n",
              "    <tr>\n",
              "      <th>floor</th>\n",
              "      <td>-0.012724</td>\n",
              "      <td>-0.078687</td>\n",
              "      <td>0.004894</td>\n",
              "      <td>-0.020767</td>\n",
              "      <td>1.000000</td>\n",
              "      <td>0.019872</td>\n",
              "      <td>0.073596</td>\n",
              "      <td>0.012626</td>\n",
              "      <td>0.013652</td>\n",
              "      <td>0.036431</td>\n",
              "    </tr>\n",
              "    <tr>\n",
              "      <th>hoa (R$)</th>\n",
              "      <td>0.006890</td>\n",
              "      <td>0.007139</td>\n",
              "      <td>0.050271</td>\n",
              "      <td>0.009321</td>\n",
              "      <td>0.019872</td>\n",
              "      <td>1.000000</td>\n",
              "      <td>0.036490</td>\n",
              "      <td>0.007627</td>\n",
              "      <td>0.029535</td>\n",
              "      <td>0.955024</td>\n",
              "    </tr>\n",
              "    <tr>\n",
              "      <th>rent amount (R$)</th>\n",
              "      <td>0.180742</td>\n",
              "      <td>0.541758</td>\n",
              "      <td>0.668504</td>\n",
              "      <td>0.578361</td>\n",
              "      <td>0.073596</td>\n",
              "      <td>0.036490</td>\n",
              "      <td>1.000000</td>\n",
              "      <td>0.107884</td>\n",
              "      <td>0.987343</td>\n",
              "      <td>0.264490</td>\n",
              "    </tr>\n",
              "    <tr>\n",
              "      <th>property tax (R$)</th>\n",
              "      <td>0.039059</td>\n",
              "      <td>0.075252</td>\n",
              "      <td>0.109253</td>\n",
              "      <td>0.098378</td>\n",
              "      <td>0.012626</td>\n",
              "      <td>0.007627</td>\n",
              "      <td>0.107884</td>\n",
              "      <td>1.000000</td>\n",
              "      <td>0.105661</td>\n",
              "      <td>0.218344</td>\n",
              "    </tr>\n",
              "    <tr>\n",
              "      <th>fire insurance (R$)</th>\n",
              "      <td>0.188078</td>\n",
              "      <td>0.565148</td>\n",
              "      <td>0.676399</td>\n",
              "      <td>0.597348</td>\n",
              "      <td>0.013652</td>\n",
              "      <td>0.029535</td>\n",
              "      <td>0.987343</td>\n",
              "      <td>0.105661</td>\n",
              "      <td>1.000000</td>\n",
              "      <td>0.254911</td>\n",
              "    </tr>\n",
              "    <tr>\n",
              "      <th>total (R$)</th>\n",
              "      <td>0.051799</td>\n",
              "      <td>0.134597</td>\n",
              "      <td>0.208339</td>\n",
              "      <td>0.148684</td>\n",
              "      <td>0.036431</td>\n",
              "      <td>0.955024</td>\n",
              "      <td>0.264490</td>\n",
              "      <td>0.218344</td>\n",
              "      <td>0.254911</td>\n",
              "      <td>1.000000</td>\n",
              "    </tr>\n",
              "  </tbody>\n",
              "</table>\n",
              "</div>\n",
              "      <button class=\"colab-df-convert\" onclick=\"convertToInteractive('df-2cb585e7-0655-4480-9b90-59771523623d')\"\n",
              "              title=\"Convert this dataframe to an interactive table.\"\n",
              "              style=\"display:none;\">\n",
              "        \n",
              "  <svg xmlns=\"http://www.w3.org/2000/svg\" height=\"24px\"viewBox=\"0 0 24 24\"\n",
              "       width=\"24px\">\n",
              "    <path d=\"M0 0h24v24H0V0z\" fill=\"none\"/>\n",
              "    <path d=\"M18.56 5.44l.94 2.06.94-2.06 2.06-.94-2.06-.94-.94-2.06-.94 2.06-2.06.94zm-11 1L8.5 8.5l.94-2.06 2.06-.94-2.06-.94L8.5 2.5l-.94 2.06-2.06.94zm10 10l.94 2.06.94-2.06 2.06-.94-2.06-.94-.94-2.06-.94 2.06-2.06.94z\"/><path d=\"M17.41 7.96l-1.37-1.37c-.4-.4-.92-.59-1.43-.59-.52 0-1.04.2-1.43.59L10.3 9.45l-7.72 7.72c-.78.78-.78 2.05 0 2.83L4 21.41c.39.39.9.59 1.41.59.51 0 1.02-.2 1.41-.59l7.78-7.78 2.81-2.81c.8-.78.8-2.07 0-2.86zM5.41 20L4 18.59l7.72-7.72 1.47 1.35L5.41 20z\"/>\n",
              "  </svg>\n",
              "      </button>\n",
              "      \n",
              "  <style>\n",
              "    .colab-df-container {\n",
              "      display:flex;\n",
              "      flex-wrap:wrap;\n",
              "      gap: 12px;\n",
              "    }\n",
              "\n",
              "    .colab-df-convert {\n",
              "      background-color: #E8F0FE;\n",
              "      border: none;\n",
              "      border-radius: 50%;\n",
              "      cursor: pointer;\n",
              "      display: none;\n",
              "      fill: #1967D2;\n",
              "      height: 32px;\n",
              "      padding: 0 0 0 0;\n",
              "      width: 32px;\n",
              "    }\n",
              "\n",
              "    .colab-df-convert:hover {\n",
              "      background-color: #E2EBFA;\n",
              "      box-shadow: 0px 1px 2px rgba(60, 64, 67, 0.3), 0px 1px 3px 1px rgba(60, 64, 67, 0.15);\n",
              "      fill: #174EA6;\n",
              "    }\n",
              "\n",
              "    [theme=dark] .colab-df-convert {\n",
              "      background-color: #3B4455;\n",
              "      fill: #D2E3FC;\n",
              "    }\n",
              "\n",
              "    [theme=dark] .colab-df-convert:hover {\n",
              "      background-color: #434B5C;\n",
              "      box-shadow: 0px 1px 3px 1px rgba(0, 0, 0, 0.15);\n",
              "      filter: drop-shadow(0px 1px 2px rgba(0, 0, 0, 0.3));\n",
              "      fill: #FFFFFF;\n",
              "    }\n",
              "  </style>\n",
              "\n",
              "      <script>\n",
              "        const buttonEl =\n",
              "          document.querySelector('#df-2cb585e7-0655-4480-9b90-59771523623d button.colab-df-convert');\n",
              "        buttonEl.style.display =\n",
              "          google.colab.kernel.accessAllowed ? 'block' : 'none';\n",
              "\n",
              "        async function convertToInteractive(key) {\n",
              "          const element = document.querySelector('#df-2cb585e7-0655-4480-9b90-59771523623d');\n",
              "          const dataTable =\n",
              "            await google.colab.kernel.invokeFunction('convertToInteractive',\n",
              "                                                     [key], {});\n",
              "          if (!dataTable) return;\n",
              "\n",
              "          const docLinkHtml = 'Like what you see? Visit the ' +\n",
              "            '<a target=\"_blank\" href=https://colab.research.google.com/notebooks/data_table.ipynb>data table notebook</a>'\n",
              "            + ' to learn more about interactive tables.';\n",
              "          element.innerHTML = '';\n",
              "          dataTable['output_type'] = 'display_data';\n",
              "          await google.colab.output.renderOutput(dataTable, element);\n",
              "          const docLink = document.createElement('div');\n",
              "          docLink.innerHTML = docLinkHtml;\n",
              "          element.appendChild(docLink);\n",
              "        }\n",
              "      </script>\n",
              "    </div>\n",
              "  </div>\n",
              "  "
            ]
          },
          "metadata": {},
          "execution_count": 29
        }
      ]
    },
    {
      "cell_type": "code",
      "source": [
        "df.corr().style.background_gradient(cmap=\"Greys\")"
      ],
      "metadata": {
        "id": "AeGJuDtCLMP5",
        "colab": {
          "base_uri": "https://localhost:8080/",
          "height": 522
        },
        "outputId": "4466abf0-9577-40cc-9268-b11cf267a5a5"
      },
      "execution_count": 30,
      "outputs": [
        {
          "output_type": "execute_result",
          "data": {
            "text/plain": [
              "<pandas.io.formats.style.Styler at 0x7fb624457990>"
            ],
            "text/html": [
              "<style type=\"text/css\">\n",
              "#T_31a25_row0_col0, #T_31a25_row1_col1, #T_31a25_row2_col2, #T_31a25_row3_col3, #T_31a25_row4_col4, #T_31a25_row5_col5, #T_31a25_row6_col6, #T_31a25_row7_col7, #T_31a25_row8_col8, #T_31a25_row9_col9 {\n",
              "  background-color: #000000;\n",
              "  color: #f1f1f1;\n",
              "}\n",
              "#T_31a25_row0_col1 {\n",
              "  background-color: #d9d9d9;\n",
              "  color: #000000;\n",
              "}\n",
              "#T_31a25_row0_col2 {\n",
              "  background-color: #dedede;\n",
              "  color: #000000;\n",
              "}\n",
              "#T_31a25_row0_col3, #T_31a25_row1_col0, #T_31a25_row3_col0, #T_31a25_row9_col2 {\n",
              "  background-color: #e1e1e1;\n",
              "  color: #000000;\n",
              "}\n",
              "#T_31a25_row0_col4 {\n",
              "  background-color: #f8f8f8;\n",
              "  color: #000000;\n",
              "}\n",
              "#T_31a25_row0_col5, #T_31a25_row1_col4, #T_31a25_row1_col5, #T_31a25_row3_col5, #T_31a25_row4_col0, #T_31a25_row4_col1, #T_31a25_row4_col2, #T_31a25_row4_col3, #T_31a25_row4_col7, #T_31a25_row4_col8, #T_31a25_row4_col9, #T_31a25_row5_col6, #T_31a25_row5_col7, #T_31a25_row7_col5 {\n",
              "  background-color: #ffffff;\n",
              "  color: #000000;\n",
              "}\n",
              "#T_31a25_row0_col6 {\n",
              "  background-color: #ececec;\n",
              "  color: #000000;\n",
              "}\n",
              "#T_31a25_row0_col7, #T_31a25_row4_col6 {\n",
              "  background-color: #fbfbfb;\n",
              "  color: #000000;\n",
              "}\n",
              "#T_31a25_row0_col8, #T_31a25_row2_col9 {\n",
              "  background-color: #e7e7e7;\n",
              "  color: #000000;\n",
              "}\n",
              "#T_31a25_row0_col9, #T_31a25_row5_col0, #T_31a25_row5_col8, #T_31a25_row8_col5 {\n",
              "  background-color: #fdfdfd;\n",
              "  color: #000000;\n",
              "}\n",
              "#T_31a25_row1_col2 {\n",
              "  background-color: #565656;\n",
              "  color: #f1f1f1;\n",
              "}\n",
              "#T_31a25_row1_col3 {\n",
              "  background-color: #727272;\n",
              "  color: #f1f1f1;\n",
              "}\n",
              "#T_31a25_row1_col6 {\n",
              "  background-color: #8f8f8f;\n",
              "  color: #f1f1f1;\n",
              "}\n",
              "#T_31a25_row1_col7, #T_31a25_row7_col6, #T_31a25_row9_col0 {\n",
              "  background-color: #f7f7f7;\n",
              "  color: #000000;\n",
              "}\n",
              "#T_31a25_row1_col8, #T_31a25_row3_col6 {\n",
              "  background-color: #858585;\n",
              "  color: #f1f1f1;\n",
              "}\n",
              "#T_31a25_row1_col9, #T_31a25_row2_col7, #T_31a25_row6_col7, #T_31a25_row7_col2, #T_31a25_row8_col7 {\n",
              "  background-color: #f3f3f3;\n",
              "  color: #000000;\n",
              "}\n",
              "#T_31a25_row2_col0, #T_31a25_row6_col9, #T_31a25_row9_col6 {\n",
              "  background-color: #dcdcdc;\n",
              "  color: #000000;\n",
              "}\n",
              "#T_31a25_row2_col1 {\n",
              "  background-color: #515151;\n",
              "  color: #f1f1f1;\n",
              "}\n",
              "#T_31a25_row2_col3 {\n",
              "  background-color: #5e5e5e;\n",
              "  color: #f1f1f1;\n",
              "}\n",
              "#T_31a25_row2_col4, #T_31a25_row5_col1 {\n",
              "  background-color: #f6f6f6;\n",
              "  color: #000000;\n",
              "}\n",
              "#T_31a25_row2_col5, #T_31a25_row5_col2 {\n",
              "  background-color: #fafafa;\n",
              "  color: #000000;\n",
              "}\n",
              "#T_31a25_row2_col6 {\n",
              "  background-color: #6b6b6b;\n",
              "  color: #f1f1f1;\n",
              "}\n",
              "#T_31a25_row2_col8, #T_31a25_row8_col2 {\n",
              "  background-color: #666666;\n",
              "  color: #f1f1f1;\n",
              "}\n",
              "#T_31a25_row3_col1 {\n",
              "  background-color: #6d6d6d;\n",
              "  color: #f1f1f1;\n",
              "}\n",
              "#T_31a25_row3_col2 {\n",
              "  background-color: #606060;\n",
              "  color: #f1f1f1;\n",
              "}\n",
              "#T_31a25_row3_col4, #T_31a25_row7_col0 {\n",
              "  background-color: #f9f9f9;\n",
              "  color: #000000;\n",
              "}\n",
              "#T_31a25_row3_col7, #T_31a25_row5_col4, #T_31a25_row7_col8 {\n",
              "  background-color: #f4f4f4;\n",
              "  color: #000000;\n",
              "}\n",
              "#T_31a25_row3_col8 {\n",
              "  background-color: #7c7c7c;\n",
              "  color: #f1f1f1;\n",
              "}\n",
              "#T_31a25_row3_col9, #T_31a25_row7_col3 {\n",
              "  background-color: #f1f1f1;\n",
              "  color: #000000;\n",
              "}\n",
              "#T_31a25_row4_col5 {\n",
              "  background-color: #fefefe;\n",
              "  color: #000000;\n",
              "}\n",
              "#T_31a25_row5_col3, #T_31a25_row6_col5 {\n",
              "  background-color: #fcfcfc;\n",
              "  color: #000000;\n",
              "}\n",
              "#T_31a25_row5_col9, #T_31a25_row9_col5 {\n",
              "  background-color: #0d0d0d;\n",
              "  color: #f1f1f1;\n",
              "}\n",
              "#T_31a25_row6_col0, #T_31a25_row7_col9 {\n",
              "  background-color: #e4e4e4;\n",
              "  color: #000000;\n",
              "}\n",
              "#T_31a25_row6_col1 {\n",
              "  background-color: #818181;\n",
              "  color: #f1f1f1;\n",
              "}\n",
              "#T_31a25_row6_col2 {\n",
              "  background-color: #686868;\n",
              "  color: #f1f1f1;\n",
              "}\n",
              "#T_31a25_row6_col3 {\n",
              "  background-color: #7d7d7d;\n",
              "  color: #f1f1f1;\n",
              "}\n",
              "#T_31a25_row6_col4, #T_31a25_row7_col1 {\n",
              "  background-color: #ededed;\n",
              "  color: #000000;\n",
              "}\n",
              "#T_31a25_row6_col8, #T_31a25_row8_col6 {\n",
              "  background-color: #030303;\n",
              "  color: #f1f1f1;\n",
              "}\n",
              "#T_31a25_row7_col4, #T_31a25_row8_col4 {\n",
              "  background-color: #f5f5f5;\n",
              "  color: #000000;\n",
              "}\n",
              "#T_31a25_row8_col0, #T_31a25_row9_col1 {\n",
              "  background-color: #e3e3e3;\n",
              "  color: #000000;\n",
              "}\n",
              "#T_31a25_row8_col1 {\n",
              "  background-color: #7b7b7b;\n",
              "  color: #f1f1f1;\n",
              "}\n",
              "#T_31a25_row8_col3 {\n",
              "  background-color: #787878;\n",
              "  color: #f1f1f1;\n",
              "}\n",
              "#T_31a25_row8_col9 {\n",
              "  background-color: #dddddd;\n",
              "  color: #000000;\n",
              "}\n",
              "#T_31a25_row9_col3 {\n",
              "  background-color: #e9e9e9;\n",
              "  color: #000000;\n",
              "}\n",
              "#T_31a25_row9_col4 {\n",
              "  background-color: #f2f2f2;\n",
              "  color: #000000;\n",
              "}\n",
              "#T_31a25_row9_col7 {\n",
              "  background-color: #e0e0e0;\n",
              "  color: #000000;\n",
              "}\n",
              "#T_31a25_row9_col8 {\n",
              "  background-color: #dadada;\n",
              "  color: #000000;\n",
              "}\n",
              "</style>\n",
              "<table id=\"T_31a25_\" class=\"dataframe\">\n",
              "  <thead>\n",
              "    <tr>\n",
              "      <th class=\"blank level0\" >&nbsp;</th>\n",
              "      <th class=\"col_heading level0 col0\" >area</th>\n",
              "      <th class=\"col_heading level0 col1\" >rooms</th>\n",
              "      <th class=\"col_heading level0 col2\" >bathroom</th>\n",
              "      <th class=\"col_heading level0 col3\" >parking spaces</th>\n",
              "      <th class=\"col_heading level0 col4\" >floor</th>\n",
              "      <th class=\"col_heading level0 col5\" >hoa (R$)</th>\n",
              "      <th class=\"col_heading level0 col6\" >rent amount (R$)</th>\n",
              "      <th class=\"col_heading level0 col7\" >property tax (R$)</th>\n",
              "      <th class=\"col_heading level0 col8\" >fire insurance (R$)</th>\n",
              "      <th class=\"col_heading level0 col9\" >total (R$)</th>\n",
              "    </tr>\n",
              "  </thead>\n",
              "  <tbody>\n",
              "    <tr>\n",
              "      <th id=\"T_31a25_level0_row0\" class=\"row_heading level0 row0\" >area</th>\n",
              "      <td id=\"T_31a25_row0_col0\" class=\"data row0 col0\" >1.000000</td>\n",
              "      <td id=\"T_31a25_row0_col1\" class=\"data row0 col1\" >0.193796</td>\n",
              "      <td id=\"T_31a25_row0_col2\" class=\"data row0 col2\" >0.226766</td>\n",
              "      <td id=\"T_31a25_row0_col3\" class=\"data row0 col3\" >0.193983</td>\n",
              "      <td id=\"T_31a25_row0_col4\" class=\"data row0 col4\" >-0.012724</td>\n",
              "      <td id=\"T_31a25_row0_col5\" class=\"data row0 col5\" >0.006890</td>\n",
              "      <td id=\"T_31a25_row0_col6\" class=\"data row0 col6\" >0.180742</td>\n",
              "      <td id=\"T_31a25_row0_col7\" class=\"data row0 col7\" >0.039059</td>\n",
              "      <td id=\"T_31a25_row0_col8\" class=\"data row0 col8\" >0.188078</td>\n",
              "      <td id=\"T_31a25_row0_col9\" class=\"data row0 col9\" >0.051799</td>\n",
              "    </tr>\n",
              "    <tr>\n",
              "      <th id=\"T_31a25_level0_row1\" class=\"row_heading level0 row1\" >rooms</th>\n",
              "      <td id=\"T_31a25_row1_col0\" class=\"data row1 col0\" >0.193796</td>\n",
              "      <td id=\"T_31a25_row1_col1\" class=\"data row1 col1\" >1.000000</td>\n",
              "      <td id=\"T_31a25_row1_col2\" class=\"data row1 col2\" >0.733763</td>\n",
              "      <td id=\"T_31a25_row1_col3\" class=\"data row1 col3\" >0.617510</td>\n",
              "      <td id=\"T_31a25_row1_col4\" class=\"data row1 col4\" >-0.078687</td>\n",
              "      <td id=\"T_31a25_row1_col5\" class=\"data row1 col5\" >0.007139</td>\n",
              "      <td id=\"T_31a25_row1_col6\" class=\"data row1 col6\" >0.541758</td>\n",
              "      <td id=\"T_31a25_row1_col7\" class=\"data row1 col7\" >0.075252</td>\n",
              "      <td id=\"T_31a25_row1_col8\" class=\"data row1 col8\" >0.565148</td>\n",
              "      <td id=\"T_31a25_row1_col9\" class=\"data row1 col9\" >0.134597</td>\n",
              "    </tr>\n",
              "    <tr>\n",
              "      <th id=\"T_31a25_level0_row2\" class=\"row_heading level0 row2\" >bathroom</th>\n",
              "      <td id=\"T_31a25_row2_col0\" class=\"data row2 col0\" >0.226766</td>\n",
              "      <td id=\"T_31a25_row2_col1\" class=\"data row2 col1\" >0.733763</td>\n",
              "      <td id=\"T_31a25_row2_col2\" class=\"data row2 col2\" >1.000000</td>\n",
              "      <td id=\"T_31a25_row2_col3\" class=\"data row2 col3\" >0.697379</td>\n",
              "      <td id=\"T_31a25_row2_col4\" class=\"data row2 col4\" >0.004894</td>\n",
              "      <td id=\"T_31a25_row2_col5\" class=\"data row2 col5\" >0.050271</td>\n",
              "      <td id=\"T_31a25_row2_col6\" class=\"data row2 col6\" >0.668504</td>\n",
              "      <td id=\"T_31a25_row2_col7\" class=\"data row2 col7\" >0.109253</td>\n",
              "      <td id=\"T_31a25_row2_col8\" class=\"data row2 col8\" >0.676399</td>\n",
              "      <td id=\"T_31a25_row2_col9\" class=\"data row2 col9\" >0.208339</td>\n",
              "    </tr>\n",
              "    <tr>\n",
              "      <th id=\"T_31a25_level0_row3\" class=\"row_heading level0 row3\" >parking spaces</th>\n",
              "      <td id=\"T_31a25_row3_col0\" class=\"data row3 col0\" >0.193983</td>\n",
              "      <td id=\"T_31a25_row3_col1\" class=\"data row3 col1\" >0.617510</td>\n",
              "      <td id=\"T_31a25_row3_col2\" class=\"data row3 col2\" >0.697379</td>\n",
              "      <td id=\"T_31a25_row3_col3\" class=\"data row3 col3\" >1.000000</td>\n",
              "      <td id=\"T_31a25_row3_col4\" class=\"data row3 col4\" >-0.020767</td>\n",
              "      <td id=\"T_31a25_row3_col5\" class=\"data row3 col5\" >0.009321</td>\n",
              "      <td id=\"T_31a25_row3_col6\" class=\"data row3 col6\" >0.578361</td>\n",
              "      <td id=\"T_31a25_row3_col7\" class=\"data row3 col7\" >0.098378</td>\n",
              "      <td id=\"T_31a25_row3_col8\" class=\"data row3 col8\" >0.597348</td>\n",
              "      <td id=\"T_31a25_row3_col9\" class=\"data row3 col9\" >0.148684</td>\n",
              "    </tr>\n",
              "    <tr>\n",
              "      <th id=\"T_31a25_level0_row4\" class=\"row_heading level0 row4\" >floor</th>\n",
              "      <td id=\"T_31a25_row4_col0\" class=\"data row4 col0\" >-0.012724</td>\n",
              "      <td id=\"T_31a25_row4_col1\" class=\"data row4 col1\" >-0.078687</td>\n",
              "      <td id=\"T_31a25_row4_col2\" class=\"data row4 col2\" >0.004894</td>\n",
              "      <td id=\"T_31a25_row4_col3\" class=\"data row4 col3\" >-0.020767</td>\n",
              "      <td id=\"T_31a25_row4_col4\" class=\"data row4 col4\" >1.000000</td>\n",
              "      <td id=\"T_31a25_row4_col5\" class=\"data row4 col5\" >0.019872</td>\n",
              "      <td id=\"T_31a25_row4_col6\" class=\"data row4 col6\" >0.073596</td>\n",
              "      <td id=\"T_31a25_row4_col7\" class=\"data row4 col7\" >0.012626</td>\n",
              "      <td id=\"T_31a25_row4_col8\" class=\"data row4 col8\" >0.013652</td>\n",
              "      <td id=\"T_31a25_row4_col9\" class=\"data row4 col9\" >0.036431</td>\n",
              "    </tr>\n",
              "    <tr>\n",
              "      <th id=\"T_31a25_level0_row5\" class=\"row_heading level0 row5\" >hoa (R$)</th>\n",
              "      <td id=\"T_31a25_row5_col0\" class=\"data row5 col0\" >0.006890</td>\n",
              "      <td id=\"T_31a25_row5_col1\" class=\"data row5 col1\" >0.007139</td>\n",
              "      <td id=\"T_31a25_row5_col2\" class=\"data row5 col2\" >0.050271</td>\n",
              "      <td id=\"T_31a25_row5_col3\" class=\"data row5 col3\" >0.009321</td>\n",
              "      <td id=\"T_31a25_row5_col4\" class=\"data row5 col4\" >0.019872</td>\n",
              "      <td id=\"T_31a25_row5_col5\" class=\"data row5 col5\" >1.000000</td>\n",
              "      <td id=\"T_31a25_row5_col6\" class=\"data row5 col6\" >0.036490</td>\n",
              "      <td id=\"T_31a25_row5_col7\" class=\"data row5 col7\" >0.007627</td>\n",
              "      <td id=\"T_31a25_row5_col8\" class=\"data row5 col8\" >0.029535</td>\n",
              "      <td id=\"T_31a25_row5_col9\" class=\"data row5 col9\" >0.955024</td>\n",
              "    </tr>\n",
              "    <tr>\n",
              "      <th id=\"T_31a25_level0_row6\" class=\"row_heading level0 row6\" >rent amount (R$)</th>\n",
              "      <td id=\"T_31a25_row6_col0\" class=\"data row6 col0\" >0.180742</td>\n",
              "      <td id=\"T_31a25_row6_col1\" class=\"data row6 col1\" >0.541758</td>\n",
              "      <td id=\"T_31a25_row6_col2\" class=\"data row6 col2\" >0.668504</td>\n",
              "      <td id=\"T_31a25_row6_col3\" class=\"data row6 col3\" >0.578361</td>\n",
              "      <td id=\"T_31a25_row6_col4\" class=\"data row6 col4\" >0.073596</td>\n",
              "      <td id=\"T_31a25_row6_col5\" class=\"data row6 col5\" >0.036490</td>\n",
              "      <td id=\"T_31a25_row6_col6\" class=\"data row6 col6\" >1.000000</td>\n",
              "      <td id=\"T_31a25_row6_col7\" class=\"data row6 col7\" >0.107884</td>\n",
              "      <td id=\"T_31a25_row6_col8\" class=\"data row6 col8\" >0.987343</td>\n",
              "      <td id=\"T_31a25_row6_col9\" class=\"data row6 col9\" >0.264490</td>\n",
              "    </tr>\n",
              "    <tr>\n",
              "      <th id=\"T_31a25_level0_row7\" class=\"row_heading level0 row7\" >property tax (R$)</th>\n",
              "      <td id=\"T_31a25_row7_col0\" class=\"data row7 col0\" >0.039059</td>\n",
              "      <td id=\"T_31a25_row7_col1\" class=\"data row7 col1\" >0.075252</td>\n",
              "      <td id=\"T_31a25_row7_col2\" class=\"data row7 col2\" >0.109253</td>\n",
              "      <td id=\"T_31a25_row7_col3\" class=\"data row7 col3\" >0.098378</td>\n",
              "      <td id=\"T_31a25_row7_col4\" class=\"data row7 col4\" >0.012626</td>\n",
              "      <td id=\"T_31a25_row7_col5\" class=\"data row7 col5\" >0.007627</td>\n",
              "      <td id=\"T_31a25_row7_col6\" class=\"data row7 col6\" >0.107884</td>\n",
              "      <td id=\"T_31a25_row7_col7\" class=\"data row7 col7\" >1.000000</td>\n",
              "      <td id=\"T_31a25_row7_col8\" class=\"data row7 col8\" >0.105661</td>\n",
              "      <td id=\"T_31a25_row7_col9\" class=\"data row7 col9\" >0.218344</td>\n",
              "    </tr>\n",
              "    <tr>\n",
              "      <th id=\"T_31a25_level0_row8\" class=\"row_heading level0 row8\" >fire insurance (R$)</th>\n",
              "      <td id=\"T_31a25_row8_col0\" class=\"data row8 col0\" >0.188078</td>\n",
              "      <td id=\"T_31a25_row8_col1\" class=\"data row8 col1\" >0.565148</td>\n",
              "      <td id=\"T_31a25_row8_col2\" class=\"data row8 col2\" >0.676399</td>\n",
              "      <td id=\"T_31a25_row8_col3\" class=\"data row8 col3\" >0.597348</td>\n",
              "      <td id=\"T_31a25_row8_col4\" class=\"data row8 col4\" >0.013652</td>\n",
              "      <td id=\"T_31a25_row8_col5\" class=\"data row8 col5\" >0.029535</td>\n",
              "      <td id=\"T_31a25_row8_col6\" class=\"data row8 col6\" >0.987343</td>\n",
              "      <td id=\"T_31a25_row8_col7\" class=\"data row8 col7\" >0.105661</td>\n",
              "      <td id=\"T_31a25_row8_col8\" class=\"data row8 col8\" >1.000000</td>\n",
              "      <td id=\"T_31a25_row8_col9\" class=\"data row8 col9\" >0.254911</td>\n",
              "    </tr>\n",
              "    <tr>\n",
              "      <th id=\"T_31a25_level0_row9\" class=\"row_heading level0 row9\" >total (R$)</th>\n",
              "      <td id=\"T_31a25_row9_col0\" class=\"data row9 col0\" >0.051799</td>\n",
              "      <td id=\"T_31a25_row9_col1\" class=\"data row9 col1\" >0.134597</td>\n",
              "      <td id=\"T_31a25_row9_col2\" class=\"data row9 col2\" >0.208339</td>\n",
              "      <td id=\"T_31a25_row9_col3\" class=\"data row9 col3\" >0.148684</td>\n",
              "      <td id=\"T_31a25_row9_col4\" class=\"data row9 col4\" >0.036431</td>\n",
              "      <td id=\"T_31a25_row9_col5\" class=\"data row9 col5\" >0.955024</td>\n",
              "      <td id=\"T_31a25_row9_col6\" class=\"data row9 col6\" >0.264490</td>\n",
              "      <td id=\"T_31a25_row9_col7\" class=\"data row9 col7\" >0.218344</td>\n",
              "      <td id=\"T_31a25_row9_col8\" class=\"data row9 col8\" >0.254911</td>\n",
              "      <td id=\"T_31a25_row9_col9\" class=\"data row9 col9\" >1.000000</td>\n",
              "    </tr>\n",
              "  </tbody>\n",
              "</table>\n"
            ]
          },
          "metadata": {},
          "execution_count": 30
        }
      ]
    },
    {
      "cell_type": "code",
      "source": [
        "plt.matshow(df.corr())\n",
        "plt.colorbar()\n",
        "plt.show()"
      ],
      "metadata": {
        "colab": {
          "base_uri": "https://localhost:8080/",
          "height": 258
        },
        "id": "ExJmXcHZGGOZ",
        "outputId": "bdade53c-dcf6-47fa-d759-5080221db391"
      },
      "execution_count": 31,
      "outputs": [
        {
          "output_type": "display_data",
          "data": {
            "text/plain": [
              "<Figure size 288x288 with 2 Axes>"
            ],
            "image/png": "[encoded data removed]"
          },
          "metadata": {
            "needs_background": "light"
          }
        }
      ]
    },
    {
      "cell_type": "code",
      "source": [
        ""
      ],
      "metadata": {
        "id": "91W4l7uzHkwO"
      },
      "execution_count": 31,
      "outputs": []
    }
  ]
}